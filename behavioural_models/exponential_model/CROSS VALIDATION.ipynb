{
 "cells": [
  {
   "cell_type": "markdown",
   "id": "f272d6ca",
   "metadata": {},
   "source": [
    "# CROSS VALIDATION"
   ]
  },
  {
   "cell_type": "markdown",
   "id": "3203ae34",
   "metadata": {},
   "source": [
    "## To do: \n",
    "\n",
    "- make a 10-fold cross validation for the FSS (FSS_01) and FSI models for PO and KA too. \n",
    "- calculate log loss  "
   ]
  },
  {
   "cell_type": "code",
   "execution_count": 4,
   "id": "e8ccdea1",
   "metadata": {},
   "outputs": [],
   "source": [
    "import pandas as pd \n",
    "import numpy as np\n",
    "import sys\n",
    "sys.path.append('..')\n",
    "from bandits_helper_functions import*\n",
    "from exponential_model import*\n",
    "import warnings\n",
    "from sklearn import metrics\n",
    "import matplotlib.pyplot as plt \n",
    "import seaborn as sns\n",
    "from paths import*"
   ]
  },
  {
   "cell_type": "markdown",
   "id": "58679477",
   "metadata": {},
   "source": [
    "## Define paths, import data"
   ]
  },
  {
   "cell_type": "code",
   "execution_count": 25,
   "id": "d43fe84b",
   "metadata": {},
   "outputs": [],
   "source": [
    "paths = Paths()\n",
    "fig_save_path = paths.fig_save_path + 'exponential_model/cross_validation/'"
   ]
  },
  {
   "cell_type": "code",
   "execution_count": 27,
   "id": "308b4cc9",
   "metadata": {},
   "outputs": [],
   "source": [
    "data = pd.read_excel(paths.data + 'behavioural_data.xlsx', index_col=[0], converters={'session': str})"
   ]
  },
  {
   "cell_type": "markdown",
   "id": "106a0ddd",
   "metadata": {},
   "source": [
    "## Data formatting\n",
    "- Drop the trials where the monkey didn't make any choice\n",
    "- Keep only a smaller subset with the relevant columns"
   ]
  },
  {
   "cell_type": "code",
   "execution_count": 9,
   "id": "8c6616c2",
   "metadata": {},
   "outputs": [],
   "source": [
    "data = data.loc[~data['feedback'].isnull()]\n",
    "data_subset = data[['monkey', 'session', 'trial_id', 'block_id', 'best_target', 'target', 'feedback']]"
   ]
  },
  {
   "cell_type": "markdown",
   "id": "fbd436a0",
   "metadata": {},
   "source": [
    "## Split the data according to the subject"
   ]
  },
  {
   "cell_type": "code",
   "execution_count": 10,
   "id": "19f4d6d5",
   "metadata": {},
   "outputs": [
    {
     "name": "stderr",
     "output_type": "stream",
     "text": [
      "/Users/szekelyanna/Dropbox/CSNL/bandits/ipynbs/exponential_model/../bandits_helper_functions.py:16: SettingWithCopyWarning: \n",
      "A value is trying to be set on a copy of a slice from a DataFrame.\n",
      "Try using .loc[row_indexer,col_indexer] = value instead\n",
      "\n",
      "See the caveats in the documentation: https://pandas.pydata.org/pandas-docs/stable/user_guide/indexing.html#returning-a-view-versus-a-copy\n",
      "  data.loc[0, '_shift'] = np.nan\n",
      "/Users/szekelyanna/Dropbox/CSNL/bandits/ipynbs/exponential_model/../bandits_helper_functions.py:23: SettingWithCopyWarning: \n",
      "A value is trying to be set on a copy of a slice from a DataFrame.\n",
      "Try using .loc[row_indexer,col_indexer] = value instead\n",
      "\n",
      "See the caveats in the documentation: https://pandas.pydata.org/pandas-docs/stable/user_guide/indexing.html#returning-a-view-versus-a-copy\n",
      "  data.loc[i, 'stay'] = 1\n"
     ]
    }
   ],
   "source": [
    "ka_data = data_subset.loc[data_subset['monkey'] == 'ka']\n",
    "ka_data = get_shift_stay_variables(ka_data)"
   ]
  },
  {
   "cell_type": "code",
   "execution_count": 11,
   "id": "9fa5ae75",
   "metadata": {},
   "outputs": [
    {
     "name": "stderr",
     "output_type": "stream",
     "text": [
      "/Users/szekelyanna/Dropbox/CSNL/bandits/ipynbs/exponential_model/../bandits_helper_functions.py:16: SettingWithCopyWarning: \n",
      "A value is trying to be set on a copy of a slice from a DataFrame.\n",
      "Try using .loc[row_indexer,col_indexer] = value instead\n",
      "\n",
      "See the caveats in the documentation: https://pandas.pydata.org/pandas-docs/stable/user_guide/indexing.html#returning-a-view-versus-a-copy\n",
      "  data.loc[0, '_shift'] = np.nan\n",
      "/Users/szekelyanna/Dropbox/CSNL/bandits/ipynbs/exponential_model/../bandits_helper_functions.py:26: SettingWithCopyWarning: \n",
      "A value is trying to be set on a copy of a slice from a DataFrame.\n",
      "Try using .loc[row_indexer,col_indexer] = value instead\n",
      "\n",
      "See the caveats in the documentation: https://pandas.pydata.org/pandas-docs/stable/user_guide/indexing.html#returning-a-view-versus-a-copy\n",
      "  data.loc[i, 'stay'] = 0\n"
     ]
    }
   ],
   "source": [
    "po_data = data_subset.loc[data_subset['monkey'] == 'po']\n",
    "po_data = get_shift_stay_variables(po_data)"
   ]
  },
  {
   "cell_type": "markdown",
   "id": "2f93d8a6",
   "metadata": {},
   "source": [
    "## Assign alternative feedback coding columns"
   ]
  },
  {
   "cell_type": "code",
   "execution_count": 12,
   "id": "fa3e6c14",
   "metadata": {},
   "outputs": [
    {
     "name": "stderr",
     "output_type": "stream",
     "text": [
      "/var/folders/j5/sdcqcn450vj04kd1_kb4xv6c0000gn/T/ipykernel_64595/4212999555.py:1: SettingWithCopyWarning: \n",
      "A value is trying to be set on a copy of a slice from a DataFrame.\n",
      "Try using .loc[row_indexer,col_indexer] = value instead\n",
      "\n",
      "See the caveats in the documentation: https://pandas.pydata.org/pandas-docs/stable/user_guide/indexing.html#returning-a-view-versus-a-copy\n",
      "  ka_data.loc[ka_data[\"feedback\"] == 0, 'feedback_11'] = -1\n",
      "/var/folders/j5/sdcqcn450vj04kd1_kb4xv6c0000gn/T/ipykernel_64595/4212999555.py:4: SettingWithCopyWarning: \n",
      "A value is trying to be set on a copy of a slice from a DataFrame.\n",
      "Try using .loc[row_indexer,col_indexer] = value instead\n",
      "\n",
      "See the caveats in the documentation: https://pandas.pydata.org/pandas-docs/stable/user_guide/indexing.html#returning-a-view-versus-a-copy\n",
      "  po_data.loc[po_data[\"feedback\"] == 0, 'feedback_11'] = -1\n"
     ]
    }
   ],
   "source": [
    "ka_data.loc[ka_data[\"feedback\"] == 0, 'feedback_11'] = -1\n",
    "ka_data.loc[ka_data[\"feedback\"] == 1, 'feedback_11'] = 1\n",
    "#ka_data_subset[['feedback', 'feedback_11']]\n",
    "po_data.loc[po_data[\"feedback\"] == 0, 'feedback_11'] = -1\n",
    "po_data.loc[po_data[\"feedback\"] == 1, 'feedback_11'] = 1\n",
    "#po_data[['feedback', 'feedback_11']]"
   ]
  },
  {
   "cell_type": "markdown",
   "id": "7e517db8",
   "metadata": {},
   "source": [
    "#### Get the previous traials' feedback history & Calculate choice match weight (CMW)"
   ]
  },
  {
   "cell_type": "code",
   "execution_count": 13,
   "id": "4922ee18",
   "metadata": {},
   "outputs": [],
   "source": [
    "ka_data_fb_01_cmw_11 = get_n_back(ka_data, reward_code='feedback')\n",
    "ka_data_fb_01_cmw_11 = get_binary_choice_match_value(ka_data_fb_01_cmw_11, coding = '-11')"
   ]
  },
  {
   "cell_type": "code",
   "execution_count": 14,
   "id": "6c77c4ea",
   "metadata": {},
   "outputs": [],
   "source": [
    "po_data_fb_01_cmw_11 = get_n_back(po_data, reward_code='feedback')\n",
    "po_data_fb_01_cmw_11 = get_binary_choice_match_value(po_data_fb_01_cmw_11, coding = '-11')"
   ]
  },
  {
   "cell_type": "markdown",
   "id": "95570196",
   "metadata": {},
   "source": [
    "----"
   ]
  },
  {
   "cell_type": "markdown",
   "id": "061f8a78",
   "metadata": {},
   "source": [
    "# CROSS VALIDATE"
   ]
  },
  {
   "cell_type": "code",
   "execution_count": 15,
   "id": "9faca886",
   "metadata": {
    "scrolled": true
   },
   "outputs": [],
   "source": [
    "warnings.filterwarnings(\"ignore\")"
   ]
  },
  {
   "cell_type": "markdown",
   "id": "c985092e",
   "metadata": {},
   "source": [
    "## CROSS VALIDATE PO "
   ]
  },
  {
   "cell_type": "code",
   "execution_count": 16,
   "id": "640fd9ff",
   "metadata": {},
   "outputs": [],
   "source": [
    "po_FSI_CV = Cross_Validate(po_data_fb_01_cmw_11, FSS = False)\n",
    "po_FSI_CV_pred, po_FSI_CV_params, po_FSI_CV_ll = po_FSI_CV.cross_validate()"
   ]
  },
  {
   "cell_type": "code",
   "execution_count": 17,
   "id": "8ede0aba",
   "metadata": {},
   "outputs": [],
   "source": [
    "po_FSS_CV = Cross_Validate(po_data_fb_01_cmw_11, FSS = True)\n",
    "po_FSS_CV_pred, po_FSS_CV_params, po_FSS_CV_ll = po_FSS_CV.cross_validate()"
   ]
  },
  {
   "cell_type": "code",
   "execution_count": 18,
   "id": "6eb6a04b",
   "metadata": {},
   "outputs": [
    {
     "data": {
      "text/plain": [
       "(0.1979039289633477, 0.39086440066689226)"
      ]
     },
     "execution_count": 18,
     "metadata": {},
     "output_type": "execute_result"
    }
   ],
   "source": [
    "po_FSS_CV_ll, po_FSI_CV_ll"
   ]
  },
  {
   "cell_type": "markdown",
   "id": "98e12b48",
   "metadata": {},
   "source": [
    "## CROSS VALIDATE KA"
   ]
  },
  {
   "cell_type": "code",
   "execution_count": 19,
   "id": "66bd1091",
   "metadata": {},
   "outputs": [],
   "source": [
    "ka_FSI_CV = Cross_Validate(ka_data_fb_01_cmw_11, FSS = False)\n",
    "ka_FSI_CV_pred, ka_FSI_CV_params, ka_FSI_CV_ll = ka_FSI_CV.cross_validate()"
   ]
  },
  {
   "cell_type": "code",
   "execution_count": 20,
   "id": "e5e61c97",
   "metadata": {},
   "outputs": [],
   "source": [
    "ka_FSS_CV = Cross_Validate(ka_data_fb_01_cmw_11, FSS = True)\n",
    "ka_FSS_CV_pred, ka_FSS_CV_params, ka_FSS_CV_ll = ka_FSS_CV.cross_validate()"
   ]
  },
  {
   "cell_type": "code",
   "execution_count": 21,
   "id": "aaee7081",
   "metadata": {},
   "outputs": [
    {
     "data": {
      "text/plain": [
       "(0.08985468551576119, 0.18395471603477742)"
      ]
     },
     "execution_count": 21,
     "metadata": {},
     "output_type": "execute_result"
    }
   ],
   "source": [
    "ka_FSS_CV_ll, ka_FSI_CV_ll"
   ]
  },
  {
   "cell_type": "markdown",
   "id": "480de997",
   "metadata": {},
   "source": [
    "## PLOT THE RESULTS"
   ]
  },
  {
   "cell_type": "code",
   "execution_count": 26,
   "id": "5e668c2a",
   "metadata": {},
   "outputs": [
    {
     "data": {
      "image/png": "[encoded data removed]",
      "text/plain": [
       "<Figure size 720x432 with 6 Axes>"
      ]
     },
     "metadata": {},
     "output_type": "display_data"
    }
   ],
   "source": [
    "fig, ax = plt.subplots(2, 3, figsize = (10, 6), facecolor = 'white')\n",
    "sns.despine()\n",
    "\n",
    "c = 0\n",
    "for param in ['a', 'b', 'c']:\n",
    "    sns_plot = sns.scatterplot(ax = ax[0, c], data = pd.DataFrame(ka_FSI_CV_params), y= param, x = np.linspace(1, 10, 10), label = 'FSI_01')\n",
    "    sns_plot.set_xlim(-2, 12)\n",
    "\n",
    "    sns_plot = sns.scatterplot(ax = ax[0, c], data = pd.DataFrame(ka_FSS_CV_params), y= param, x = np.linspace(1, 10, 10), label = 'FSS_01')\n",
    "    sns_plot.set_xlim(-2, 12)\n",
    "    sns_plot.legend([], frameon = False)\n",
    "    sns_plot.set_title(param, fontsize = 14)\n",
    "    sns_plot.set_ylabel(None)\n",
    "    #sns_plot.set_xticks([], [])\n",
    "    \n",
    "\n",
    "    sns_plot = sns.scatterplot(ax = ax[1, c], data = pd.DataFrame(po_FSI_CV_params), y= param, x = np.linspace(1, 10, 10), label = 'FSI_01')\n",
    "    sns_plot.set_xlim(-2, 12)\n",
    "\n",
    "    sns_plot = sns.scatterplot(ax = ax[1, c], data = pd.DataFrame(po_FSS_CV_params), y= param, x = np.linspace(1, 10, 10), label = 'FSS_01')\n",
    "    sns_plot.set_xlim(-2, 12)\n",
    "    sns_plot.legend([], frameon = False)\n",
    "    sns_plot.set_ylabel(None)\n",
    "    \n",
    "    c +=1\n",
    "    \n",
    "\n",
    "ax[0, 0].set_ylabel('KA', fontsize = 18)\n",
    "ax[1, 0].set_ylabel('PO', fontsize = 18)\n",
    "\n",
    "plt.subplots_adjust(wspace = 0.5)\n",
    "handles, labels = plt.gca().get_legend_handles_labels()\n",
    "\n",
    "plt.legend(handles = handles, labels = labels, frameon = False, loc = (0.95, 2), fontsize = 16);\n",
    "plt.savefig(fig_save_path + 'cross_validated_params.png', dpi = 300, bbox_inches='tight');"
   ]
  },
  {
   "cell_type": "code",
   "execution_count": null,
   "id": "e7cfee87",
   "metadata": {},
   "outputs": [],
   "source": []
  }
 ],
 "metadata": {
  "kernelspec": {
   "display_name": "Python 3 (ipykernel)",
   "language": "python",
   "name": "python3"
  },
  "language_info": {
   "codemirror_mode": {
    "name": "ipython",
    "version": 3
   },
   "file_extension": ".py",
   "mimetype": "text/x-python",
   "name": "python",
   "nbconvert_exporter": "python",
   "pygments_lexer": "ipython3",
   "version": "3.9.7"
  }
 },
 "nbformat": 4,
 "nbformat_minor": 5
}
