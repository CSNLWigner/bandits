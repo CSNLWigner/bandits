{
 "cells": [
  {
   "cell_type": "markdown",
   "id": "47152fbb",
   "metadata": {},
   "source": [
    "# EXPONENTIAL MODEL CATALOGE - for monkey Popey"
   ]
  },
  {
   "cell_type": "code",
   "execution_count": 1,
   "id": "73f9ee77",
   "metadata": {
    "scrolled": true
   },
   "outputs": [],
   "source": [
    "import pickle\n",
    "import pandas as pd\n",
    "import numpy as np\n",
    "import sys\n",
    "sys.path.append('..')\n",
    "from paths import Paths\n",
    "import matplotlib.pyplot as plt \n",
    "import seaborn as sns\n",
    "from sklearn.linear_model import LogisticRegression\n",
    "import warnings\n",
    "from sklearn import metrics\n",
    "import scipy as sp\n",
    "from scipy.special import softmax\n",
    "from scipy.optimize import minimize\n",
    "from bandits_helper_functions import*\n",
    "from exponential_model import Exponential_model, Optimize_exponent\n",
    "from exponential_model import*\n",
    "import pickle as pkl\n",
    "import datetime\n",
    "from openpyxl import load_workbook"
   ]
  },
  {
   "cell_type": "markdown",
   "id": "58679477",
   "metadata": {},
   "source": [
    "## Define paths, import data"
   ]
  },
  {
   "cell_type": "code",
   "execution_count": 2,
   "id": "a814fc26",
   "metadata": {},
   "outputs": [],
   "source": [
    "paths = Paths()\n",
    "fig_save_path = paths.fig_save_path + 'exponential_model/'\n",
    "data = pd.read_excel(paths.data + 'behavioural_data.xlsx', index_col=[0], converters={'session': str})"
   ]
  },
  {
   "cell_type": "markdown",
   "id": "106a0ddd",
   "metadata": {},
   "source": [
    "## Data formatting\n",
    "- Drop the trials where the monkey didn't make any choice\n",
    "- Keep only a smaller subset with the relevant columns"
   ]
  },
  {
   "cell_type": "code",
   "execution_count": 4,
   "id": "8c6616c2",
   "metadata": {},
   "outputs": [],
   "source": [
    "data = data.loc[~data['feedback'].isnull()]\n",
    "data_subset = data[['monkey', 'session', 'trial_id', 'block_id', 'best_target', 'target', 'feedback']]"
   ]
  },
  {
   "cell_type": "markdown",
   "id": "fbd436a0",
   "metadata": {},
   "source": [
    "## Split the data according to the subject"
   ]
  },
  {
   "cell_type": "code",
   "execution_count": 5,
   "id": "19f4d6d5",
   "metadata": {},
   "outputs": [],
   "source": [
    "po_data = data_subset.loc[data_subset['monkey'] == 'po']"
   ]
  },
  {
   "cell_type": "code",
   "execution_count": 6,
   "id": "6a17d0bc",
   "metadata": {
    "scrolled": false
   },
   "outputs": [
    {
     "name": "stderr",
     "output_type": "stream",
     "text": [
      "/Users/szekelyanna/Dropbox/CSNL/bandits/ipynbs/bandits_helper_functions.py:16: SettingWithCopyWarning: \n",
      "A value is trying to be set on a copy of a slice from a DataFrame.\n",
      "Try using .loc[row_indexer,col_indexer] = value instead\n",
      "\n",
      "See the caveats in the documentation: https://pandas.pydata.org/pandas-docs/stable/user_guide/indexing.html#returning-a-view-versus-a-copy\n",
      "  data.loc[0, '_shift'] = np.nan\n",
      "/Users/szekelyanna/Dropbox/CSNL/bandits/ipynbs/bandits_helper_functions.py:26: SettingWithCopyWarning: \n",
      "A value is trying to be set on a copy of a slice from a DataFrame.\n",
      "Try using .loc[row_indexer,col_indexer] = value instead\n",
      "\n",
      "See the caveats in the documentation: https://pandas.pydata.org/pandas-docs/stable/user_guide/indexing.html#returning-a-view-versus-a-copy\n",
      "  data.loc[i, 'stay'] = 0\n"
     ]
    }
   ],
   "source": [
    "po_data = get_shift_stay_variables(po_data)"
   ]
  },
  {
   "cell_type": "markdown",
   "id": "2f93d8a6",
   "metadata": {},
   "source": [
    "## Assign alternative feedback coding columns"
   ]
  },
  {
   "cell_type": "code",
   "execution_count": 7,
   "id": "fa3e6c14",
   "metadata": {},
   "outputs": [
    {
     "name": "stderr",
     "output_type": "stream",
     "text": [
      "/var/folders/j5/sdcqcn450vj04kd1_kb4xv6c0000gn/T/ipykernel_15078/1049855686.py:1: SettingWithCopyWarning: \n",
      "A value is trying to be set on a copy of a slice from a DataFrame.\n",
      "Try using .loc[row_indexer,col_indexer] = value instead\n",
      "\n",
      "See the caveats in the documentation: https://pandas.pydata.org/pandas-docs/stable/user_guide/indexing.html#returning-a-view-versus-a-copy\n",
      "  po_data.loc[po_data[\"feedback\"] == 0, 'feedback_11'] = -1\n"
     ]
    }
   ],
   "source": [
    "po_data.loc[po_data[\"feedback\"] == 0, 'feedback_11'] = -1\n",
    "po_data.loc[po_data[\"feedback\"] == 1, 'feedback_11'] = 1\n",
    "#po_data[['feedback', 'feedback_11']]"
   ]
  },
  {
   "cell_type": "markdown",
   "id": "7e517db8",
   "metadata": {},
   "source": [
    "#### Get the previous traials' feedback history & Calculate choice match weight (CMW)"
   ]
  },
  {
   "cell_type": "code",
   "execution_count": 8,
   "id": "4922ee18",
   "metadata": {},
   "outputs": [],
   "source": [
    "po_data_fb_01_cmw_11 = get_n_back(po_data, reward_code='feedback')"
   ]
  },
  {
   "cell_type": "code",
   "execution_count": 9,
   "id": "7c801ca2",
   "metadata": {},
   "outputs": [],
   "source": [
    "po_data_fb_01_cmw_11 = get_binary_choice_match_value(po_data_fb_01_cmw_11, coding = '-11')"
   ]
  },
  {
   "cell_type": "markdown",
   "id": "95570196",
   "metadata": {},
   "source": [
    "----"
   ]
  },
  {
   "cell_type": "markdown",
   "id": "cc099d88",
   "metadata": {},
   "source": [
    "# MODEL CATALOGE"
   ]
  },
  {
   "cell_type": "markdown",
   "id": "1eed34a2",
   "metadata": {},
   "source": [
    "# Section 1.: Reward coding: {0, 1}"
   ]
  },
  {
   "cell_type": "markdown",
   "id": "2a1f0b51",
   "metadata": {},
   "source": [
    "## Feedback Source Inensitive (FSI)  model with reward coding {0, 1}"
   ]
  },
  {
   "cell_type": "markdown",
   "id": "0967aa50",
   "metadata": {},
   "source": [
    "### PO_FSI_01"
   ]
  },
  {
   "cell_type": "code",
   "execution_count": 10,
   "id": "2f64c18d",
   "metadata": {},
   "outputs": [
    {
     "name": "stdout",
     "output_type": "stream",
     "text": [
      "###################\n",
      "Model name: PO_FSI_01\n",
      "###################\n",
      "Fitted params: {'a': 425.5049388237319, 'a2': None, 'b': -0.5745794899078164, 'c': -91.31460324164145, 'eps': None}\n",
      "reward coding: {0.0, 1.0}\n",
      "cmw coding: {1.0, -1.0}\n",
      "###################\n",
      "Log loss: 0.38774\n",
      "###################\n",
      "Warning: Check if boundaries were set to zero for the a2 parameter.\n",
      "Warning: Check if boundaries were set to zero for the eps parameter.\n"
     ]
    }
   ],
   "source": [
    "PO_FSI_01 = Optimize_exponent()\n",
    "PO_FSI_01.optimise_model(data = po_data_fb_01_cmw_11, name = 'PO_FSI_01',\n",
    "                         FSS = False, fit_a2 = False, fit_eps = False, \n",
    "                         bounds = ((None, None), (0, 0), (-3, 1), (None, None), (0, 0)))\n",
    "\n",
    "print_model_params(PO_FSI_01)\n",
    "#save_model_results(PO_FSI_01)\n",
    "PO_FSI_01.save_data()"
   ]
  },
  {
   "cell_type": "markdown",
   "id": "9966276f",
   "metadata": {},
   "source": [
    "## Feedback Source Sensitive (FSS)  model with reward coding {0, 1}"
   ]
  },
  {
   "cell_type": "markdown",
   "id": "cf58c5e8",
   "metadata": {},
   "source": [
    "### PO_FSS_01"
   ]
  },
  {
   "cell_type": "code",
   "execution_count": 11,
   "id": "c6a7d92a",
   "metadata": {
    "scrolled": true
   },
   "outputs": [
    {
     "name": "stdout",
     "output_type": "stream",
     "text": [
      "###################\n",
      "Model name: PO_FSS_01\n",
      "###################\n",
      "Fitted params: {'a': 1279.1980338738779, 'a2': None, 'b': -0.7949927334589239, 'c': -31.297389849681117, 'eps': None}\n",
      "reward coding: {0.0, 1.0}\n",
      "cmw coding: {1.0, -1.0}\n",
      "###################\n",
      "Log loss: 0.19622\n",
      "###################\n",
      "Warning: Check if boundaries were set to zero for the a2 parameter.\n",
      "Warning: Check if boundaries were set to zero for the eps parameter.\n"
     ]
    }
   ],
   "source": [
    "PO_FSS_01 = Optimize_exponent()\n",
    "PO_FSS_01.optimise_model(data = po_data_fb_01_cmw_11, name = 'PO_FSS_01',\n",
    "                         FSS = True, fit_a2 = False, fit_eps = False, \n",
    "                         bounds = ((None, None), (0, 0), (-3, 1), (None, None), (0, 0)))\n",
    "\n",
    "print_model_params(PO_FSS_01)\n",
    "#save_model_results(PO_FSS_01)\n",
    "PO_FSS_01.save_data()"
   ]
  },
  {
   "cell_type": "markdown",
   "id": "7dcf0b5b",
   "metadata": {},
   "source": [
    "### PO_FSS_01_a2"
   ]
  },
  {
   "cell_type": "code",
   "execution_count": 12,
   "id": "1222feee",
   "metadata": {},
   "outputs": [
    {
     "name": "stdout",
     "output_type": "stream",
     "text": [
      "###################\n",
      "Model name: PO_FSS_01_a2\n",
      "###################\n",
      "Fitted params: {'a': 1360.3417390157165, 'a2': 313.0105590238575, 'b': -0.750230727518384, 'c': -64.15703759796594, 'eps': None}\n",
      "reward coding: {0.0, 1.0}\n",
      "cmw coding: {1.0, -1.0}\n",
      "###################\n",
      "Log loss: 0.19185\n",
      "###################\n",
      "Warning: Check if boundaries were set to zero for the eps parameter.\n"
     ]
    }
   ],
   "source": [
    "PO_FSS_01_a2 = Optimize_exponent()\n",
    "PO_FSS_01_a2.optimise_model(data = po_data_fb_01_cmw_11, name = 'PO_FSS_01_a2',\n",
    "                         FSS = True, fit_a2 = 'independent', fit_eps = False, \n",
    "                         bounds = ((None, None), (None, None), (-3, 1), (None, None), (0, 0)))\n",
    "\n",
    "print_model_params(PO_FSS_01_a2)\n",
    "#save_model_results(PO_FSS_01_a2)\n",
    "PO_FSS_01_a2.save_data()"
   ]
  },
  {
   "cell_type": "markdown",
   "id": "8eac80b4",
   "metadata": {},
   "source": [
    "### PO_FSS_01_Pa2"
   ]
  },
  {
   "cell_type": "code",
   "execution_count": 13,
   "id": "cd21712a",
   "metadata": {},
   "outputs": [
    {
     "name": "stdout",
     "output_type": "stream",
     "text": [
      "###################\n",
      "Model name: PO_FSS_01_Pa2\n",
      "###################\n",
      "Fitted params: {'a': 2145.6217975399495, 'a2': -2145.6217975399495, 'b': -1.2570162917878123, 'c': 22.090483294573865, 'eps': None}\n",
      "reward coding: {0.0, 1.0}\n",
      "cmw coding: {1.0, -1.0}\n",
      "###################\n",
      "Log loss: 0.23022\n",
      "###################\n",
      "Warning: Check if boundaries were set to zero for the a2 parameter.\n",
      "Warning: Check if boundaries were set to zero for the eps parameter.\n"
     ]
    }
   ],
   "source": [
    "PO_FSS_01_Pa2 = Optimize_exponent()\n",
    "PO_FSS_01_Pa2.optimise_model(data = po_data_fb_01_cmw_11, \n",
    "                             name = 'PO_FSS_01_Pa2',\n",
    "                             FSS = True, \n",
    "                             fit_a2 = 'pseudo',\n",
    "                             fit_eps = False, \n",
    "                             bounds = ((None, None), (0, 0), (-3, 1), (None, None), (0, 0)))\n",
    "\n",
    "print_model_params(PO_FSS_01_Pa2)\n",
    "#save_model_results(PO_FSS_01_Pa2)\n",
    "PO_FSS_01_Pa2.save_data()"
   ]
  },
  {
   "cell_type": "markdown",
   "id": "c36c39b4",
   "metadata": {},
   "source": [
    "### PO_FSS_eps1e2 (eps. upper= -0.01)"
   ]
  },
  {
   "cell_type": "code",
   "execution_count": 14,
   "id": "42324508",
   "metadata": {
    "scrolled": true
   },
   "outputs": [
    {
     "name": "stdout",
     "output_type": "stream",
     "text": [
      "###################\n",
      "Model name: PO_FSS_eps1e-2\n",
      "###################\n",
      "Fitted params: {'a': 1063.7478675602263, 'a2': 0.0, 'b': -0.7297058028378386, 'c': -29.764725773301716, 'eps': -0.01}\n",
      "reward coding: {1.0, -0.01}\n",
      "cmw coding: {1.0, -1.0}\n",
      "###################\n",
      "Log loss: 0.20368\n",
      "###################\n",
      "Warning: Check if boundaries were set to zero for the a2 parameter.\n",
      "Warning: Check for setting a resonable upper bound on epsilon.\n"
     ]
    }
   ],
   "source": [
    "PO_FSS_eps1e2 = Optimize_exponent()\n",
    "PO_FSS_eps1e2.optimise_model(data = po_data_fb_01_cmw_11, name = 'PO_FSS_eps1e-2',\n",
    "                         FSS = True, fit_a2 = False, fit_eps = True, \n",
    "                         bounds = ((None, None), (0, 0), (-3, 1), (None, None), (None, -0.01)))\n",
    "\n",
    "print_model_params(PO_FSS_eps1e2)\n",
    "#save_model_results(PO_FSS_eps1e2)\n",
    "PO_FSS_eps1e2.save_data()"
   ]
  },
  {
   "cell_type": "markdown",
   "id": "7ae14d0a",
   "metadata": {},
   "source": [
    "### PO_FSS_eps1e3 (eps. upper= -0.001)"
   ]
  },
  {
   "cell_type": "code",
   "execution_count": 15,
   "id": "f8ebdad1",
   "metadata": {
    "scrolled": false
   },
   "outputs": [
    {
     "name": "stdout",
     "output_type": "stream",
     "text": [
      "###################\n",
      "Model name: PO_FSS_eps1e-3\n",
      "###################\n",
      "Fitted params: {'a': 1251.0657158683098, 'a2': 0.0, 'b': -0.786990209646389, 'c': -31.147872730385227, 'eps': -0.001}\n",
      "reward coding: {1.0, -0.001}\n",
      "cmw coding: {1.0, -1.0}\n",
      "###################\n",
      "Log loss: 0.197\n",
      "###################\n",
      "Warning: Check if boundaries were set to zero for the a2 parameter.\n",
      "Warning: Check for setting a resonable upper bound on epsilon.\n"
     ]
    }
   ],
   "source": [
    "PO_FSS_eps1e3 = Optimize_exponent()\n",
    "PO_FSS_eps1e3.optimise_model(data = po_data_fb_01_cmw_11, name = 'PO_FSS_eps1e-3',\n",
    "                         FSS = True, fit_a2 = False, fit_eps = True, \n",
    "                         bounds = ((None, None), (0, 0), (-3, 1), (None, None), (None, -0.001)))\n",
    "\n",
    "print_model_params(PO_FSS_eps1e3)\n",
    "#save_model_results(PO_FSS_eps1e3)\n",
    "PO_FSS_eps1e3.save_data()"
   ]
  },
  {
   "cell_type": "markdown",
   "id": "592619cb",
   "metadata": {},
   "source": [
    "---"
   ]
  },
  {
   "cell_type": "markdown",
   "id": "2de746ba",
   "metadata": {},
   "source": [
    "# Section 2: reward coding {-1, 1}"
   ]
  },
  {
   "cell_type": "markdown",
   "id": "b59e5c3a",
   "metadata": {},
   "source": [
    " Get the previous traials' feedback history & Calculate choice match weight (CMW)"
   ]
  },
  {
   "cell_type": "code",
   "execution_count": 16,
   "id": "9b57f73a",
   "metadata": {
    "scrolled": true
   },
   "outputs": [],
   "source": [
    "po_data_fb_11_cmw_01 = get_n_back(po_data, reward_code='feedback_11')"
   ]
  },
  {
   "cell_type": "code",
   "execution_count": 17,
   "id": "fa3a5778",
   "metadata": {},
   "outputs": [],
   "source": [
    "po_data_fb_11_cmw_01 = get_binary_choice_match_value(po_data_fb_11_cmw_01, coding = '01')"
   ]
  },
  {
   "cell_type": "markdown",
   "id": "b84d0c6f",
   "metadata": {},
   "source": [
    "## Feedback Source Inensitive (FSI)  model with reward coding {-1, 1}"
   ]
  },
  {
   "cell_type": "markdown",
   "id": "d6dc771d",
   "metadata": {},
   "source": [
    "### PO_FSI_11"
   ]
  },
  {
   "cell_type": "code",
   "execution_count": 18,
   "id": "4c8c8a04",
   "metadata": {},
   "outputs": [
    {
     "name": "stdout",
     "output_type": "stream",
     "text": [
      "###################\n",
      "Model name: PO_FSI_11\n",
      "###################\n",
      "Fitted params: {'a': 212.75710991969515, 'a2': None, 'b': -0.574548391740649, 'c': 179.95760215916326, 'eps': None}\n",
      "reward coding: {1.0, -1.0}\n",
      "cmw coding: {0.0, 1.0}\n",
      "###################\n",
      "Log loss: 0.38774\n",
      "###################\n",
      "Warning: Check if boundaries were set to zero for the a2 parameter.\n",
      "Warning: Check if boundaries were set to zero for the eps parameter.\n"
     ]
    }
   ],
   "source": [
    "PO_FSI_11 = Optimize_exponent()\n",
    "PO_FSI_11.optimise_model(data = po_data_fb_11_cmw_01, name = 'PO_FSI_11',\n",
    "                         FSS = False, fit_a2 = False, fit_eps = False, \n",
    "                         bounds = ((None, None), (0, 0), (-3, 0), (None, None), (0, 0)))\n",
    "\n",
    "print_model_params(PO_FSI_11)\n",
    "#save_model_results(PO_FSI_11)\n",
    "PO_FSI_11.save_data()"
   ]
  },
  {
   "cell_type": "markdown",
   "id": "01b81baa",
   "metadata": {},
   "source": [
    "## Feedback Source Sensitive (FSS)  model with reward coding {-1, 1}"
   ]
  },
  {
   "cell_type": "markdown",
   "id": "f7dc9252",
   "metadata": {},
   "source": [
    "### PO_FSS_11"
   ]
  },
  {
   "cell_type": "code",
   "execution_count": 19,
   "id": "2eca476b",
   "metadata": {
    "scrolled": true
   },
   "outputs": [
    {
     "name": "stdout",
     "output_type": "stream",
     "text": [
      "###################\n",
      "Model name: PO_FSS_11\n",
      "###################\n",
      "Fitted params: {'a': 54.40826361533109, 'a2': None, 'b': -0.06955825996305888, 'c': 106.1870138904215, 'eps': None}\n",
      "reward coding: {1.0, -1.0}\n",
      "cmw coding: {0.0, 1.0}\n",
      "###################\n",
      "Log loss: 0.45003\n",
      "###################\n",
      "Warning: Check if boundaries were set to zero for the a2 parameter.\n",
      "Warning: Check if boundaries were set to zero for the eps parameter.\n"
     ]
    }
   ],
   "source": [
    "PO_FSS_11 = Optimize_exponent()\n",
    "PO_FSS_11.optimise_model(data = po_data_fb_11_cmw_01, name = 'PO_FSS_11',\n",
    "                         FSS = True, fit_a2 = False, fit_eps = False, \n",
    "                         bounds = ((None, None), (0, 0), (-3, 1), (None, None), (0, 0)))\n",
    "\n",
    "print_model_params(PO_FSS_11)\n",
    "#save_model_results(PO_FSS_11)\n",
    "PO_FSS_11.save_data()"
   ]
  },
  {
   "cell_type": "markdown",
   "id": "2e2aa37b",
   "metadata": {},
   "source": [
    "### PO_FSS_11_a2"
   ]
  },
  {
   "cell_type": "code",
   "execution_count": 20,
   "id": "614130b9",
   "metadata": {},
   "outputs": [
    {
     "name": "stdout",
     "output_type": "stream",
     "text": [
      "###################\n",
      "Model name: PO_FSS_11_a2\n",
      "###################\n",
      "Fitted params: {'a': -77.14888479912673, 'a2': 8604.000266293348, 'b': -3.0, 'c': 257.3593446258878, 'eps': None}\n",
      "reward coding: {1.0, -1.0}\n",
      "cmw coding: {0.0, 1.0}\n",
      "###################\n",
      "Log loss: 0.28158\n",
      "###################\n",
      "Warning: Check if boundaries were set to zero for the eps parameter.\n"
     ]
    }
   ],
   "source": [
    "PO_FSS_11_a2 = Optimize_exponent()\n",
    "PO_FSS_11_a2.optimise_model(data = po_data_fb_11_cmw_01, name = 'PO_FSS_11_a2',\n",
    "                         FSS = True, fit_a2 = 'independent', fit_eps = False, \n",
    "                         bounds = ((None, None), (None, None), (-3, 0), (None, None), (0, 0)))\n",
    "\n",
    "print_model_params(PO_FSS_11_a2)\n",
    "#save_model_results(PO_FSS_11_a2)\n",
    "PO_FSS_11_a2.save_data()"
   ]
  },
  {
   "cell_type": "markdown",
   "id": "52ed8ec3",
   "metadata": {},
   "source": [
    "### PO_FSS_11_Pa2"
   ]
  },
  {
   "cell_type": "code",
   "execution_count": 22,
   "id": "f2aeb023",
   "metadata": {},
   "outputs": [
    {
     "name": "stdout",
     "output_type": "stream",
     "text": [
      "###################\n",
      "Model name: PO_FSS_11_Pa2\n",
      "###################\n",
      "Fitted params: {'a': 19.673465993459043, 'a2': -19.673465993459043, 'b': 0.0, 'c': 92.83903758517268, 'eps': None}\n",
      "reward coding: {1.0, -1.0}\n",
      "cmw coding: {0.0, 1.0}\n",
      "###################\n",
      "Log loss: 0.50097\n",
      "###################\n",
      "Warning: Check if boundaries were set to zero for the a2 parameter.\n",
      "Warning: Check if boundaries were set to zero for the eps parameter.\n"
     ]
    }
   ],
   "source": [
    "PO_FSS_11_Pa2 = Optimize_exponent()\n",
    "PO_FSS_11_Pa2.optimise_model(data = po_data_fb_11_cmw_01, \n",
    "                             name = 'PO_FSS_11_Pa2',\n",
    "                             FSS = True, \n",
    "                             fit_a2 = 'pseudo',\n",
    "                             fit_eps = False, \n",
    "                             bounds = ((None, None), (0, 0), (-3, 0), (None, None), (0, 0)))\n",
    "\n",
    "print_model_params(PO_FSS_11_Pa2)\n",
    "#save_model_results(PO_FSS_11_Pa2)\n",
    "PO_FSS_11_Pa2.save_data()"
   ]
  }
 ],
 "metadata": {
  "celltoolbar": "Raw Cell Format",
  "kernelspec": {
   "display_name": "Python 3 (ipykernel)",
   "language": "python",
   "name": "python3"
  },
  "language_info": {
   "codemirror_mode": {
    "name": "ipython",
    "version": 3
   },
   "file_extension": ".py",
   "mimetype": "text/x-python",
   "name": "python",
   "nbconvert_exporter": "python",
   "pygments_lexer": "ipython3",
   "version": "3.9.7"
  }
 },
 "nbformat": 4,
 "nbformat_minor": 5
}
