{
 "cells": [
  {
   "cell_type": "markdown",
   "id": "47152fbb",
   "metadata": {},
   "source": [
    "# EXPONENTIAL MODEL CATALOGE - for monkey Kate"
   ]
  },
  {
   "cell_type": "code",
   "execution_count": 37,
   "id": "a1152aee",
   "metadata": {},
   "outputs": [],
   "source": [
    "warnings.filterwarnings(\"ignore\")"
   ]
  },
  {
   "cell_type": "code",
   "execution_count": 38,
   "id": "73f9ee77",
   "metadata": {
    "scrolled": true
   },
   "outputs": [],
   "source": [
    "import pickle\n",
    "import pandas as pd\n",
    "import numpy as np\n",
    "import sys\n",
    "sys.path.append('..')\n",
    "from paths import Paths\n",
    "import matplotlib.pyplot as plt \n",
    "import seaborn as sns\n",
    "from sklearn.linear_model import LogisticRegression\n",
    "import warnings\n",
    "from sklearn import metrics\n",
    "import scipy as sp\n",
    "from scipy.special import softmax\n",
    "from scipy.optimize import minimize\n",
    "from bandits_helper_functions import*\n",
    "from exponential_model import Exponential_model, Optimize_exponent\n",
    "from exponential_model import*\n",
    "import pickle as pkl\n",
    "import datetime\n",
    "from openpyxl import load_workbook"
   ]
  },
  {
   "cell_type": "markdown",
   "id": "58679477",
   "metadata": {},
   "source": [
    "## Define paths, import data"
   ]
  },
  {
   "cell_type": "code",
   "execution_count": 39,
   "id": "200900ca",
   "metadata": {},
   "outputs": [],
   "source": [
    "paths = Paths()\n",
    "fig_save_path = paths.fig_save_path + 'exponential_model/'\n",
    "data = pd.read_excel(paths.data + 'behavioural_data.xlsx', index_col=[0], converters={'session': str})"
   ]
  },
  {
   "cell_type": "markdown",
   "id": "106a0ddd",
   "metadata": {},
   "source": [
    "## Data formatting\n",
    "- Drop the trials where the monkey didn't make any choice\n",
    "- Keep only a smaller subset with the relevant columns"
   ]
  },
  {
   "cell_type": "code",
   "execution_count": 40,
   "id": "8c6616c2",
   "metadata": {},
   "outputs": [],
   "source": [
    "data = data.loc[~data['feedback'].isnull()]\n",
    "data_subset = data[['monkey', 'session', 'trial_id', 'block_id', 'best_target', 'target', 'feedback']]"
   ]
  },
  {
   "cell_type": "markdown",
   "id": "fbd436a0",
   "metadata": {},
   "source": [
    "## Split the data according to the subject"
   ]
  },
  {
   "cell_type": "code",
   "execution_count": 41,
   "id": "19f4d6d5",
   "metadata": {},
   "outputs": [],
   "source": [
    "ka_data = data_subset.loc[data_subset['monkey'] == 'ka']"
   ]
  },
  {
   "cell_type": "code",
   "execution_count": 42,
   "id": "6a17d0bc",
   "metadata": {
    "scrolled": false
   },
   "outputs": [],
   "source": [
    "ka_data = get_shift_stay_variables(ka_data)"
   ]
  },
  {
   "cell_type": "markdown",
   "id": "2f93d8a6",
   "metadata": {},
   "source": [
    "## Assign alternative feedback coding columns"
   ]
  },
  {
   "cell_type": "code",
   "execution_count": 43,
   "id": "fa3e6c14",
   "metadata": {},
   "outputs": [],
   "source": [
    "ka_data.loc[ka_data[\"feedback\"] == 0, 'feedback_11'] = -1\n",
    "ka_data.loc[ka_data[\"feedback\"] == 1, 'feedback_11'] = 1\n",
    "#ka_data_subset[['feedback', 'feedback_11']]"
   ]
  },
  {
   "cell_type": "markdown",
   "id": "7e517db8",
   "metadata": {},
   "source": [
    "#### Get the previous traials' feedback history & Calculate choice match weight (CMW)"
   ]
  },
  {
   "cell_type": "code",
   "execution_count": 44,
   "id": "4922ee18",
   "metadata": {},
   "outputs": [],
   "source": [
    "ka_data_fb_01_cmw_11 = get_n_back(ka_data, reward_code='feedback')"
   ]
  },
  {
   "cell_type": "code",
   "execution_count": 45,
   "id": "7c801ca2",
   "metadata": {},
   "outputs": [],
   "source": [
    "ka_data_fb_01_cmw_11 = get_binary_choice_match_value(ka_data_fb_01_cmw_11, coding = '-11')"
   ]
  },
  {
   "cell_type": "markdown",
   "id": "95570196",
   "metadata": {},
   "source": [
    "----"
   ]
  },
  {
   "cell_type": "markdown",
   "id": "cc099d88",
   "metadata": {},
   "source": [
    "# MODEL CATALOGE"
   ]
  },
  {
   "cell_type": "markdown",
   "id": "1eed34a2",
   "metadata": {},
   "source": [
    "# Section 1.: Reward coding: {0, 1}"
   ]
  },
  {
   "cell_type": "markdown",
   "id": "2a1f0b51",
   "metadata": {},
   "source": [
    "## Feedback Source Inensitive (FSI)  model with reward coding {0, 1}"
   ]
  },
  {
   "cell_type": "markdown",
   "id": "0967aa50",
   "metadata": {},
   "source": [
    "### KA_FSI_01"
   ]
  },
  {
   "cell_type": "code",
   "execution_count": 46,
   "id": "2f64c18d",
   "metadata": {
    "scrolled": false
   },
   "outputs": [
    {
     "name": "stdout",
     "output_type": "stream",
     "text": [
      "###################\n",
      "Model name: KA_FSI_01\n",
      "###################\n",
      "Fitted params: {'a': 711.4001011594199, 'a2': None, 'b': -0.5486829803258474, 'c': -117.18603456597167, 'eps': None}\n",
      "reward coding: {0.0, 1.0}\n",
      "cmw coding: {1.0, -1.0}\n",
      "###################\n",
      "Log loss: 0.18352\n",
      "###################\n",
      "Warning: Check if boundaries were set to zero for the a2 parameter.\n",
      "Warning: Check if boundaries were set to zero for the eps parameter.\n"
     ]
    }
   ],
   "source": [
    "KA_FSI_01 = Optimize_exponent()\n",
    "KA_FSI_01.optimise_model(data = ka_data_fb_01_cmw_11, name = 'KA_FSI_01',\n",
    "                         FSS = False, fit_a2 = False, fit_eps = False, \n",
    "                         bounds = ((None, None), (0, 0), (-3, 1), (None, None), (0, 0)))\n",
    "\n",
    "print_model_params(KA_FSI_01)\n",
    "#save_model_results(KA_FSI_01)\n",
    "#KA_FSI_01.save_data()"
   ]
  },
  {
   "cell_type": "markdown",
   "id": "9966276f",
   "metadata": {},
   "source": [
    "## Feedback Source Sensitive (FSS)  model with reward coding {0, 1}"
   ]
  },
  {
   "cell_type": "markdown",
   "id": "cf58c5e8",
   "metadata": {},
   "source": [
    "### KA_FSS_01"
   ]
  },
  {
   "cell_type": "code",
   "execution_count": 47,
   "id": "c6a7d92a",
   "metadata": {
    "scrolled": true
   },
   "outputs": [
    {
     "name": "stdout",
     "output_type": "stream",
     "text": [
      "###################\n",
      "Model name: KA_FSS_01\n",
      "###################\n",
      "Fitted params: {'a': 1540.1489148485537, 'a2': None, 'b': -0.6786541652577511, 'c': -14.078573480439651, 'eps': None}\n",
      "reward coding: {0.0, 1.0}\n",
      "cmw coding: {1.0, -1.0}\n",
      "###################\n",
      "Log loss: 0.08932\n",
      "###################\n",
      "Warning: Check if boundaries were set to zero for the a2 parameter.\n",
      "Warning: Check if boundaries were set to zero for the eps parameter.\n"
     ]
    }
   ],
   "source": [
    "KA_FSS_01 = Optimize_exponent()\n",
    "KA_FSS_01.optimise_model(data = ka_data_fb_01_cmw_11, name = 'KA_FSS_01',\n",
    "                         FSS = True, fit_a2 = False, fit_eps = False, \n",
    "                         bounds = ((None, None), (0, 0), (-3, 1), (None, None), (0, 0)))\n",
    "\n",
    "print_model_params(KA_FSS_01)\n",
    "#save_model_results(KA_FSS_01)\n",
    "#KA_FSS_01.save_data()"
   ]
  },
  {
   "cell_type": "markdown",
   "id": "7dcf0b5b",
   "metadata": {},
   "source": [
    "### KA_FSS_01_a2"
   ]
  },
  {
   "cell_type": "code",
   "execution_count": 48,
   "id": "1222feee",
   "metadata": {},
   "outputs": [
    {
     "name": "stdout",
     "output_type": "stream",
     "text": [
      "###################\n",
      "Model name: KA_FSS_01_a2\n",
      "###################\n",
      "Fitted params: {'a': 1784.838139639883, 'a2': 643.5279320169332, 'b': -0.6191402012479515, 'c': -83.61938369819448, 'eps': None}\n",
      "reward coding: {0.0, 1.0}\n",
      "cmw coding: {1.0, -1.0}\n",
      "###################\n",
      "Log loss: 0.08356\n",
      "###################\n",
      "Warning: Check if boundaries were set to zero for the eps parameter.\n"
     ]
    }
   ],
   "source": [
    "KA_FSS_01_a2 = Optimize_exponent()\n",
    "KA_FSS_01_a2.optimise_model(data = ka_data_fb_01_cmw_11, name = 'KA_FSS_01_a2',\n",
    "                         FSS = True, fit_a2 = 'independent', fit_eps = False, \n",
    "                         bounds = ((None, None), (None, None), (-3, 1), (None, None), (0, 0)))\n",
    "\n",
    "print_model_params(KA_FSS_01_a2)\n",
    "#save_model_results(KA_FSS_01_a2)\n",
    "KA_FSS_01_a2.save_data()"
   ]
  },
  {
   "cell_type": "markdown",
   "id": "8eac80b4",
   "metadata": {},
   "source": [
    "### KA_FSS_01_Pa2"
   ]
  },
  {
   "cell_type": "code",
   "execution_count": 49,
   "id": "cd21712a",
   "metadata": {},
   "outputs": [
    {
     "name": "stdout",
     "output_type": "stream",
     "text": [
      "###################\n",
      "Model name: KA_FSS_01_Pa2\n",
      "###################\n",
      "Fitted params: {'a': 1586.780649345604, 'a2': -1586.780649345604, 'b': -0.8727760143106232, 'c': 51.69909362102566, 'eps': None}\n",
      "reward coding: {0.0, 1.0}\n",
      "cmw coding: {1.0, -1.0}\n",
      "###################\n",
      "Log loss: 0.11103\n",
      "###################\n",
      "Warning: Check if boundaries were set to zero for the a2 parameter.\n",
      "Warning: Check if boundaries were set to zero for the eps parameter.\n"
     ]
    }
   ],
   "source": [
    "KA_FSS_01_Pa2 = Optimize_exponent()\n",
    "KA_FSS_01_Pa2.optimise_model(data = ka_data_fb_01_cmw_11, \n",
    "                             name = 'KA_FSS_01_Pa2',\n",
    "                             FSS = True, \n",
    "                             fit_a2 = 'pseudo',\n",
    "                             fit_eps = False, \n",
    "                             bounds = ((None, None), (0, 0), (-3, 1), (None, None), (0, 0)))\n",
    "\n",
    "print_model_params(KA_FSS_01_Pa2)\n",
    "#save_model_results(KA_FSS_01_Pa2)\n",
    "#KA_FSS_01_Pa2.save_data()"
   ]
  },
  {
   "cell_type": "markdown",
   "id": "c36c39b4",
   "metadata": {},
   "source": [
    "### KA_FSS_eps1e2 (eps. upper= -0.01)"
   ]
  },
  {
   "cell_type": "code",
   "execution_count": 50,
   "id": "42324508",
   "metadata": {
    "scrolled": true
   },
   "outputs": [
    {
     "name": "stdout",
     "output_type": "stream",
     "text": [
      "###################\n",
      "Model name: KA_FSS_eps1e-2\n",
      "###################\n",
      "Fitted params: {'a': 1216.6085385124707, 'a2': 0.0, 'b': -0.6104715405278982, 'c': -11.046951719032977, 'eps': -0.01}\n",
      "reward coding: {1.0, -0.01}\n",
      "cmw coding: {1.0, -1.0}\n",
      "###################\n",
      "Log loss: 0.09378\n",
      "###################\n",
      "Warning: Check if boundaries were set to zero for the a2 parameter.\n",
      "Warning: Check for setting a resonable upper bound on epsilon.\n"
     ]
    }
   ],
   "source": [
    "KA_FSS_eps1e2 = Optimize_exponent()\n",
    "KA_FSS_eps1e2.optimise_model(data = ka_data_fb_01_cmw_11, name = 'KA_FSS_eps1e-2',\n",
    "                         FSS = True, fit_a2 = False, fit_eps = True, \n",
    "                         bounds = ((None, None), (0, 0), (-3, 1), (None, None), (None, -0.01)))\n",
    "\n",
    "print_model_params(KA_FSS_eps1e2)\n",
    "#save_model_results(KA_FSS_eps1e2)\n",
    "#KA_FSS_eps1e2.save_data()"
   ]
  },
  {
   "cell_type": "markdown",
   "id": "7ae14d0a",
   "metadata": {},
   "source": [
    "### KA_FSS_eps1e3 (eps. upper= -0.001)"
   ]
  },
  {
   "cell_type": "code",
   "execution_count": 51,
   "id": "df9df737",
   "metadata": {
    "scrolled": false
   },
   "outputs": [
    {
     "name": "stdout",
     "output_type": "stream",
     "text": [
      "###################\n",
      "Model name: KA_FSS_eps1e-3\n",
      "###################\n",
      "Fitted params: {'a': 1495.698076209572, 'a2': 0.0, 'b': -0.6700707415695838, 'c': -13.750761496324419, 'eps': -0.001}\n",
      "reward coding: {1.0, -0.001}\n",
      "cmw coding: {1.0, -1.0}\n",
      "###################\n",
      "Log loss: 0.08979\n",
      "###################\n",
      "Warning: Check if boundaries were set to zero for the a2 parameter.\n",
      "Warning: Check for setting a resonable upper bound on epsilon.\n"
     ]
    }
   ],
   "source": [
    "KA_FSS_eps1e3 = Optimize_exponent()\n",
    "KA_FSS_eps1e3.optimise_model(data = ka_data_fb_01_cmw_11, name = 'KA_FSS_eps1e-3',\n",
    "                         FSS = True, fit_a2 = False, fit_eps = True, \n",
    "                         bounds = ((None, None), (0, 0), (-3, 1), (None, None), (None, -0.001)))\n",
    "\n",
    "print_model_params(KA_FSS_eps1e3)\n",
    "#save_model_results(KA_FSS_eps1e3)\n",
    "#KA_FSS_eps1e3.save_data()"
   ]
  },
  {
   "cell_type": "markdown",
   "id": "592619cb",
   "metadata": {},
   "source": [
    "---"
   ]
  },
  {
   "cell_type": "markdown",
   "id": "2de746ba",
   "metadata": {},
   "source": [
    "# Section 2: reward coding {-1, 1}"
   ]
  },
  {
   "cell_type": "markdown",
   "id": "b59e5c3a",
   "metadata": {},
   "source": [
    " Get the previous traials' feedback history & Calculate choice match weight (CMW)"
   ]
  },
  {
   "cell_type": "code",
   "execution_count": 52,
   "id": "9b57f73a",
   "metadata": {
    "scrolled": true
   },
   "outputs": [],
   "source": [
    "ka_data_fb_11_cmw_01 = get_n_back(ka_data, reward_code='feedback_11')"
   ]
  },
  {
   "cell_type": "code",
   "execution_count": 53,
   "id": "fa3a5778",
   "metadata": {},
   "outputs": [],
   "source": [
    "ka_data_fb_11_cmw_01 = get_binary_choice_match_value(ka_data_fb_11_cmw_01, coding = '01')"
   ]
  },
  {
   "cell_type": "markdown",
   "id": "b84d0c6f",
   "metadata": {},
   "source": [
    "## Feedback Source Inensitive (FSI)  model with reward coding {-1, 1}"
   ]
  },
  {
   "cell_type": "markdown",
   "id": "d6dc771d",
   "metadata": {},
   "source": [
    "### KA_FSI_11"
   ]
  },
  {
   "cell_type": "code",
   "execution_count": 54,
   "id": "4c8c8a04",
   "metadata": {},
   "outputs": [
    {
     "name": "stdout",
     "output_type": "stream",
     "text": [
      "###################\n",
      "Model name: KA_FSI_11\n",
      "###################\n",
      "Fitted params: {'a': 372.52630958398197, 'a2': None, 'b': -0.5726359688897196, 'c': 368.28214373459986, 'eps': None}\n",
      "reward coding: {1.0, -1.0}\n",
      "cmw coding: {0.0, 1.0}\n",
      "###################\n",
      "Log loss: 0.18345\n",
      "###################\n",
      "Warning: Check if boundaries were set to zero for the a2 parameter.\n",
      "Warning: Check if boundaries were set to zero for the eps parameter.\n"
     ]
    }
   ],
   "source": [
    "KA_FSI_11 = Optimize_exponent()\n",
    "KA_FSI_11.optimise_model(data = ka_data_fb_11_cmw_01, name = 'KA_FSI_11',\n",
    "                         FSS = False, fit_a2 = False, fit_eps = False, \n",
    "                         bounds = ((None, None), (0, 0), (-3, 0), (None, None), (0, 0)))\n",
    "\n",
    "print_model_params(KA_FSI_11)\n",
    "#save_model_results(KA_FSI_11)\n",
    "#KA_FSI_11.save_data()"
   ]
  },
  {
   "cell_type": "markdown",
   "id": "01b81baa",
   "metadata": {},
   "source": [
    "## Feedback Source Sensitive (FSS)  model with reward coding {-1, 1}"
   ]
  },
  {
   "cell_type": "markdown",
   "id": "f7dc9252",
   "metadata": {},
   "source": [
    "### KA_FSS_11"
   ]
  },
  {
   "cell_type": "code",
   "execution_count": 55,
   "id": "a80853ef",
   "metadata": {
    "scrolled": true
   },
   "outputs": [
    {
     "name": "stdout",
     "output_type": "stream",
     "text": [
      "###################\n",
      "Model name: KA_FSS_11\n",
      "###################\n",
      "Fitted params: {'a': 55.49188332468125, 'a2': None, 'b': -0.0011430515721382651, 'c': 171.25832679413594, 'eps': None}\n",
      "reward coding: {1.0, -1.0}\n",
      "cmw coding: {0.0, 1.0}\n",
      "###################\n",
      "Log loss: 0.26401\n",
      "###################\n",
      "Warning: Check if boundaries were set to zero for the a2 parameter.\n",
      "Warning: Check if boundaries were set to zero for the eps parameter.\n"
     ]
    }
   ],
   "source": [
    "KA_FSS_11 = Optimize_exponent()\n",
    "KA_FSS_11.optimise_model(data = ka_data_fb_11_cmw_01, name = 'KA_FSS_11',\n",
    "                         FSS = True, fit_a2 = False, fit_eps = False, \n",
    "                         bounds = ((None, None), (0, 0), (-3, 1), (None, None), (0, 0)))\n",
    "\n",
    "print_model_params(KA_FSS_11)\n",
    "#save_model_results(KA_FSS_11)\n",
    "#KA_FSS_11.save_data()"
   ]
  },
  {
   "cell_type": "markdown",
   "id": "9af4b1d0",
   "metadata": {},
   "source": [
    "### KA_FSS_11_a2"
   ]
  },
  {
   "cell_type": "code",
   "execution_count": 56,
   "id": "07f8b5ca",
   "metadata": {},
   "outputs": [
    {
     "name": "stdout",
     "output_type": "stream",
     "text": [
      "###################\n",
      "Model name: KA_FSS_11_a2\n",
      "###################\n",
      "Fitted params: {'a': 631.9557193292158, 'a2': 3859.746658752129, 'b': -1.632388661594395, 'c': 520.9594898626217, 'eps': None}\n",
      "reward coding: {1.0, -1.0}\n",
      "cmw coding: {0.0, 1.0}\n",
      "###################\n",
      "Log loss: 0.05787\n",
      "###################\n",
      "Warning: Check if boundaries were set to zero for the eps parameter.\n"
     ]
    }
   ],
   "source": [
    "KA_FSS_11_a2 = Optimize_exponent()\n",
    "KA_FSS_11_a2.optimise_model(data = ka_data_fb_11_cmw_01, name = 'KA_FSS_11_a2',\n",
    "                         FSS = True, fit_a2 = 'independent', fit_eps = False, \n",
    "                         bounds = ((None, None), (None, None), (-3, 1), (None, None), (0, 0)))\n",
    "\n",
    "print_model_params(KA_FSS_11_a2)\n",
    "#save_model_results(KA_FSS_11_a2)\n",
    "#KA_FSS_11_a2.save_data()"
   ]
  },
  {
   "cell_type": "markdown",
   "id": "4913e53e",
   "metadata": {},
   "source": [
    "### KA_FSS_11_Pa2"
   ]
  },
  {
   "cell_type": "code",
   "execution_count": 57,
   "id": "7597f7b2",
   "metadata": {},
   "outputs": [
    {
     "name": "stdout",
     "output_type": "stream",
     "text": [
      "###################\n",
      "Model name: KA_FSS_11_Pa2\n",
      "###################\n",
      "Fitted params: {'a': 23.78845973509825, 'a2': -23.78845973509825, 'b': 0.0, 'c': 166.21537865788906, 'eps': None}\n",
      "reward coding: {1.0, -1.0}\n",
      "cmw coding: {0.0, 1.0}\n",
      "###################\n",
      "Log loss: 0.31278\n",
      "###################\n",
      "Warning: Check if boundaries were set to zero for the a2 parameter.\n",
      "Warning: Check if boundaries were set to zero for the eps parameter.\n"
     ]
    }
   ],
   "source": [
    "KA_FSS_11_Pa2 = Optimize_exponent()\n",
    "KA_FSS_11_Pa2.optimise_model(data = ka_data_fb_11_cmw_01, \n",
    "                             name = 'KA_FSS_11_Pa2',\n",
    "                             FSS = True, \n",
    "                             fit_a2 = 'pseudo',\n",
    "                             fit_eps = False, \n",
    "                             bounds = ((None, None), (0, 0), (-3, 0), (None, None), (0, 0)))\n",
    "\n",
    "print_model_params(KA_FSS_11_Pa2)\n",
    "#save_model_results(KA_FSS_11_Pa2)\n",
    "#KA_FSS_11_Pa2.save_data()"
   ]
  }
 ],
 "metadata": {
  "celltoolbar": "Raw Cell Format",
  "kernelspec": {
   "display_name": "Python 3 (ipykernel)",
   "language": "python",
   "name": "python3"
  },
  "language_info": {
   "codemirror_mode": {
    "name": "ipython",
    "version": 3
   },
   "file_extension": ".py",
   "mimetype": "text/x-python",
   "name": "python",
   "nbconvert_exporter": "python",
   "pygments_lexer": "ipython3",
   "version": "3.9.7"
  }
 },
 "nbformat": 4,
 "nbformat_minor": 5
}
