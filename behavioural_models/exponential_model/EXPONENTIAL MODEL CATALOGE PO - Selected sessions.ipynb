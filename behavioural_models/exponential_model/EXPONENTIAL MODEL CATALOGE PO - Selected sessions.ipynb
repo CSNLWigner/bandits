{
 "cells": [
  {
   "cell_type": "markdown",
   "id": "47152fbb",
   "metadata": {},
   "source": [
    "# EXPONENTIAL MODEL CATALOGE - Selected sessions for monkey Popey"
   ]
  },
  {
   "cell_type": "markdown",
   "id": "9b1006c8",
   "metadata": {},
   "source": [
    "Monkey PO started to ignore target-2 after a couple of sessions. The goal here to fit only on those sessions when he cooperated and used all the targets as it assumed. "
   ]
  },
  {
   "cell_type": "code",
   "execution_count": 30,
   "id": "b080946d",
   "metadata": {},
   "outputs": [],
   "source": [
    "import warnings\n",
    "warnings.filterwarnings(\"ignore\")"
   ]
  },
  {
   "cell_type": "code",
   "execution_count": 31,
   "id": "73f9ee77",
   "metadata": {
    "scrolled": true
   },
   "outputs": [],
   "source": [
    "import pickle\n",
    "import pandas as pd\n",
    "import numpy as np\n",
    "import sys\n",
    "sys.path.append('..')\n",
    "import matplotlib.pyplot as plt \n",
    "import seaborn as sns\n",
    "from sklearn.linear_model import LogisticRegression\n",
    "import warnings\n",
    "from sklearn import metrics\n",
    "import scipy as sp\n",
    "from scipy.special import softmax\n",
    "from scipy.optimize import minimize\n",
    "from bandits_helper_functions import*\n",
    "from exponential_model import*\n",
    "from paths import*\n",
    "import pickle as pkl\n",
    "import datetime\n",
    "from openpyxl import load_workbook"
   ]
  },
  {
   "cell_type": "markdown",
   "id": "58679477",
   "metadata": {},
   "source": [
    "## Define paths, import data"
   ]
  },
  {
   "cell_type": "code",
   "execution_count": 32,
   "id": "346b7cdd",
   "metadata": {},
   "outputs": [],
   "source": [
    "paths = Paths()\n",
    "fig_save_path = paths.fig_save_path + 'exponential_model/'\n",
    "data = pd.read_excel(paths.data + 'behavioural_data.xlsx', index_col=[0], converters={'session': str})"
   ]
  },
  {
   "cell_type": "code",
   "execution_count": 33,
   "id": "308b4cc9",
   "metadata": {},
   "outputs": [],
   "source": [
    "data = pd.read_excel(paths.data + 'behavioural_data.xlsx', index_col=[0], converters={'session': str})\n",
    "data[\"date\"] = pd.to_datetime(data[\"session\"], format = \"%d%m%y\")\n",
    "data[\"date\"] =  data['date'].dt.date"
   ]
  },
  {
   "cell_type": "markdown",
   "id": "106a0ddd",
   "metadata": {},
   "source": [
    "## Data formatting\n",
    "- Drop the trials where the monkey didn't make any choice\n",
    "- Keep only a smaller subset with the relevant columns"
   ]
  },
  {
   "cell_type": "code",
   "execution_count": 34,
   "id": "8c6616c2",
   "metadata": {},
   "outputs": [],
   "source": [
    "data = data.loc[~data['feedback'].isnull()]\n",
    "data_subset = data[['monkey', 'session', 'date', 'trial_id', 'block_id', 'best_target', 'target', 'feedback']]"
   ]
  },
  {
   "cell_type": "markdown",
   "id": "fbd436a0",
   "metadata": {},
   "source": [
    "## Split the data according to the subject"
   ]
  },
  {
   "cell_type": "code",
   "execution_count": 35,
   "id": "19f4d6d5",
   "metadata": {},
   "outputs": [],
   "source": [
    "po_data = data_subset.loc[data_subset['monkey'] == 'po']"
   ]
  },
  {
   "cell_type": "code",
   "execution_count": 36,
   "id": "6a17d0bc",
   "metadata": {
    "scrolled": false
   },
   "outputs": [],
   "source": [
    "po_data = get_shift_stay_variables(po_data)"
   ]
  },
  {
   "cell_type": "markdown",
   "id": "2f93d8a6",
   "metadata": {},
   "source": [
    "## Assign alternative feedback coding columns"
   ]
  },
  {
   "cell_type": "code",
   "execution_count": 37,
   "id": "fa3e6c14",
   "metadata": {},
   "outputs": [],
   "source": [
    "po_data.loc[po_data[\"feedback\"] == 0, 'feedback_11'] = -1\n",
    "po_data.loc[po_data[\"feedback\"] == 1, 'feedback_11'] = 1\n",
    "#po_data[['feedback', 'feedback_11']]"
   ]
  },
  {
   "cell_type": "markdown",
   "id": "7e517db8",
   "metadata": {},
   "source": [
    "#### Get the previous traials' feedback history & Calculate choice match weight (CMW)"
   ]
  },
  {
   "cell_type": "code",
   "execution_count": 38,
   "id": "4922ee18",
   "metadata": {},
   "outputs": [],
   "source": [
    "po_data_fb_01_cmw_11 = get_n_back(po_data, reward_code='feedback')"
   ]
  },
  {
   "cell_type": "code",
   "execution_count": 39,
   "id": "7c801ca2",
   "metadata": {},
   "outputs": [],
   "source": [
    "po_data_fb_01_cmw_11 = get_binary_choice_match_value(po_data_fb_01_cmw_11, coding = '-11')"
   ]
  },
  {
   "cell_type": "markdown",
   "id": "95570196",
   "metadata": {},
   "source": [
    "----"
   ]
  },
  {
   "cell_type": "code",
   "execution_count": 40,
   "id": "56b646c6",
   "metadata": {},
   "outputs": [],
   "source": [
    "last_cooperative_day =  datetime.datetime.strptime('2021-04-9', \"%Y-%m-%d\").date()\n",
    "po_cooperative_data =  po_data_fb_01_cmw_11.loc[po_data_fb_01_cmw_11['date'] <= last_cooperative_day]\n",
    "po_non_cooperative_data =  po_data_fb_01_cmw_11.loc[po_data_fb_01_cmw_11['date'] > last_cooperative_day]"
   ]
  },
  {
   "cell_type": "code",
   "execution_count": 41,
   "id": "adfb38a8",
   "metadata": {},
   "outputs": [],
   "source": [
    "#po_cooperative_data"
   ]
  },
  {
   "cell_type": "markdown",
   "id": "9966276f",
   "metadata": {},
   "source": [
    "## Feedback Source Sensitive (FSS)  model with reward coding {0, 1}"
   ]
  },
  {
   "cell_type": "markdown",
   "id": "ae46d9f9",
   "metadata": {},
   "source": [
    "### PO_FSS_01"
   ]
  },
  {
   "cell_type": "code",
   "execution_count": 72,
   "id": "faabe475",
   "metadata": {},
   "outputs": [
    {
     "name": "stdout",
     "output_type": "stream",
     "text": [
      "###################\n",
      "Model name: PO_FSS_01\n",
      "###################\n",
      "Fitted params: {'a': 1279.1980338738779, 'a2': None, 'b': -0.7949927334589239, 'c': -31.297389849681117, 'eps': None}\n",
      "reward coding: {0.0, 1.0}\n",
      "cmw coding: {1.0, -1.0}\n",
      "###################\n",
      "Log loss: 0.19622\n",
      "###################\n",
      "Warning: Check if boundaries were set to zero for the a2 parameter.\n",
      "Warning: Check if boundaries were set to zero for the eps parameter.\n"
     ]
    }
   ],
   "source": [
    "PO_FSS_01 = Optimize_exponent()\n",
    "PO_FSS_01.optimise_model(data = po_data_fb_01_cmw_11, name = 'PO_FSS_01',\n",
    "                         FSS = True, fit_a2 = False, fit_eps = False, \n",
    "                         bounds = ((None, None), (0, 0), (-3, 1), (None, None), (0, 0)))\n",
    "\n",
    "print_model_params(PO_FSS_01)\n",
    "#save_model_results(PO_FSS_01)\n",
    "#PO_FSS_01.save_data()"
   ]
  },
  {
   "cell_type": "markdown",
   "id": "ec6b1d2e",
   "metadata": {},
   "source": [
    "## FSS 01 model for the cooperative phase"
   ]
  },
  {
   "cell_type": "markdown",
   "id": "cf58c5e8",
   "metadata": {},
   "source": [
    "### PO_FSS_01_coop"
   ]
  },
  {
   "cell_type": "code",
   "execution_count": 43,
   "id": "c6a7d92a",
   "metadata": {
    "scrolled": true
   },
   "outputs": [],
   "source": [
    "PO_FSS_01_coop = Optimize_exponent()\n",
    "PO_FSS_01_coop.optimise_model(data = po_cooperative_data, name = 'PO_FSS_01_coop',\n",
    "                         FSS = True, fit_a2 = False, fit_eps = False, \n",
    "                         bounds = ((None, None), (0, 0), (-3, 1), (None, None), (0, 0)))"
   ]
  },
  {
   "cell_type": "code",
   "execution_count": 44,
   "id": "86e5da12",
   "metadata": {
    "scrolled": false
   },
   "outputs": [
    {
     "name": "stdout",
     "output_type": "stream",
     "text": [
      "###################\n",
      "Model name: PO_FSS_01_coop\n",
      "###################\n",
      "Fitted params: {'a': 1347.6741488007376, 'a2': None, 'b': -0.8666856187676758, 'c': -45.41943078104467, 'eps': None}\n",
      "reward coding: {0.0, 1.0}\n",
      "cmw coding: {1.0, -1.0}\n",
      "###################\n",
      "Log loss: 0.21309\n",
      "###################\n",
      "Warning: Check if boundaries were set to zero for the a2 parameter.\n",
      "Warning: Check if boundaries were set to zero for the eps parameter.\n"
     ]
    }
   ],
   "source": [
    "print_model_params(PO_FSS_01_coop)\n",
    "#save_model_results(PO_FSS_01)\n",
    "#PO_FSS_01_coop.save_data()"
   ]
  },
  {
   "cell_type": "markdown",
   "id": "dbc83174",
   "metadata": {},
   "source": [
    "### PO_FSS_01_non_coop"
   ]
  },
  {
   "cell_type": "code",
   "execution_count": 45,
   "id": "6cfa9736",
   "metadata": {
    "scrolled": true
   },
   "outputs": [],
   "source": [
    "###Whats going on here? \n",
    "\n",
    "PO_FSS_01_non_coop = Optimize_exponent()\n",
    "PO_FSS_01_non_coop.optimise_model(data = po_non_cooperative_data, name = 'PO_FSS_01_non_coop',\n",
    "                         FSS = True, fit_a2 = False, fit_eps = False, \n",
    "                         bounds = ((0, 1), (0, 0), (-1, 1), (-0.1, 0.1), (0, 0)))"
   ]
  },
  {
   "cell_type": "code",
   "execution_count": 46,
   "id": "071d1953",
   "metadata": {},
   "outputs": [
    {
     "name": "stdout",
     "output_type": "stream",
     "text": [
      "###################\n",
      "Model name: PO_FSS_01_non_coop\n",
      "###################\n",
      "Fitted params: {'a': 1.0, 'a2': None, 'b': 0.5837815993934555, 'c': 0.1, 'eps': None}\n",
      "reward coding: {0.0, 1.0}\n",
      "cmw coding: {1.0, -1.0}\n",
      "###################\n",
      "Log loss: 0.50867\n",
      "###################\n",
      "Warning: Check if boundaries were set to zero for the a2 parameter.\n",
      "Warning: Check if boundaries were set to zero for the eps parameter.\n"
     ]
    }
   ],
   "source": [
    "print_model_params(PO_FSS_01_non_coop)\n",
    "#save_model_results(PO_FSS_01)\n",
    "#PO_FSS_01_coop.save_data()"
   ]
  },
  {
   "cell_type": "markdown",
   "id": "9f9af5ad",
   "metadata": {},
   "source": [
    "## Analyse the cooperative fitted model"
   ]
  },
  {
   "cell_type": "code",
   "execution_count": 49,
   "id": "af70a117",
   "metadata": {},
   "outputs": [
    {
     "data": {
      "image/png": "[encoded data removed]",
      "text/plain": [
       "<Figure size 288x288 with 1 Axes>"
      ]
     },
     "metadata": {},
     "output_type": "display_data"
    }
   ],
   "source": [
    "data_files = ['PO_FSS_01_coop.csv', 'PO_FSS_01.csv']\n",
    "\n",
    "fig, ax = plt.subplots(1,1, figsize = (4, 4), facecolor = 'white')\n",
    "\n",
    "\n",
    "i = 0\n",
    "for f in data_files:  \n",
    "    data = pd.read_csv(paths.model_outputs + f)\n",
    "    auc = metrics.roc_auc_score(data.stay, data.exponent_model)\n",
    "    fpr, tpr, _ = metrics.roc_curve(data.stay, data.exponent_model)\n",
    "    label = f[:-4] + '; auc: ' + str(np.round(auc, 4))\n",
    "    ax.plot(fpr, tpr, label= label)\n",
    "    ax.legend(frameon = False, fontsize = 12, loc =(0.08, 0.1));\n",
    "    i += 1\n",
    "    \n",
    "# ax[0].set_title('KA', fontsize = 16)\n",
    "# ax[1].set_title('PO', fontsize = 16)\n",
    "\n",
    "\n",
    "sns.despine()\n",
    "plt.subplots_adjust(wspace = 1)\n",
    "plt.suptitle('ROC and AUC for the cooperative subset, and for the basic FSS_01 model.', fontsize = 18, y = 1.07);\n",
    "\n",
    "plt.savefig(fig_save_path + 'PO_cooperative_phase_vs_all_phase.png', dpi = 300, bbox_inches='tight');"
   ]
  }
 ],
 "metadata": {
  "celltoolbar": "Raw Cell Format",
  "kernelspec": {
   "display_name": "Python 3 (ipykernel)",
   "language": "python",
   "name": "python3"
  },
  "language_info": {
   "codemirror_mode": {
    "name": "ipython",
    "version": 3
   },
   "file_extension": ".py",
   "mimetype": "text/x-python",
   "name": "python",
   "nbconvert_exporter": "python",
   "pygments_lexer": "ipython3",
   "version": "3.9.7"
  }
 },
 "nbformat": 4,
 "nbformat_minor": 5
}
